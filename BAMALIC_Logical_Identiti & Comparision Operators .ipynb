{
 "cells": [
  {
   "cell_type": "code",
   "execution_count": 59,
   "id": "55bd63bd",
   "metadata": {},
   "outputs": [
    {
     "name": "stdout",
     "output_type": "stream",
     "text": [
      "<class 'str'>\n",
      "True\n",
      "False\n",
      "True\n"
     ]
    }
   ],
   "source": [
    "name = \"magic\"\n",
    "\n",
    "age = 16\n",
    "\n",
    "is_married = False\n",
    "\n",
    "temp = 98.5\n",
    "\n",
    "numbers = [1, 2, 3, 4]\n",
    "\n",
    "print (type(name))\n",
    "\n",
    "print (4 in numbers)\n",
    "\n",
    "print (5 in numbers)\n",
    "\n",
    "print (6 not in numbers)"
   ]
  },
  {
   "cell_type": "code",
   "execution_count": 60,
   "id": "3826590e",
   "metadata": {},
   "outputs": [
    {
     "name": "stdout",
     "output_type": "stream",
     "text": [
      "True\n"
     ]
    }
   ],
   "source": [
    "name = \"Waheed\".capitalize()\n",
    "\n",
    "print ('Waheed' in name)"
   ]
  },
  {
   "cell_type": "code",
   "execution_count": 61,
   "id": "feae4fd4",
   "metadata": {},
   "outputs": [
    {
     "name": "stdout",
     "output_type": "stream",
     "text": [
      " Abdul Waheed\n"
     ]
    }
   ],
   "source": [
    "name = \"Waheed\"\n",
    "\n",
    "print (f\" Abdul {name}\")"
   ]
  },
  {
   "cell_type": "code",
   "execution_count": 62,
   "id": "ff8b8951",
   "metadata": {},
   "outputs": [
    {
     "name": "stdout",
     "output_type": "stream",
     "text": [
      "False\n"
     ]
    }
   ],
   "source": [
    "name = \"Waheed\".upper().lower()\n",
    "\n",
    "print (f\"{\"Waheed\" in name}\")"
   ]
  },
  {
   "cell_type": "markdown",
   "id": "024499bf",
   "metadata": {},
   "source": [
    "## And Logical Operators\n",
    "\n",
    "### (Any two elements should be same for True statment) "
   ]
  },
  {
   "cell_type": "markdown",
   "id": "646f6f83",
   "metadata": {},
   "source": [
    "### 1. True and True = True\n",
    "### 2. True and False = False\n",
    "### 3. False and False = True\n",
    "\n"
   ]
  },
  {
   "cell_type": "code",
   "execution_count": 63,
   "id": "b374f066",
   "metadata": {},
   "outputs": [
    {
     "name": "stdout",
     "output_type": "stream",
     "text": [
      "True\n",
      "False\n",
      "True\n"
     ]
    }
   ],
   "source": [
    "print (6 > 5 and 7 > 4)\n",
    "\n",
    "print (8 > 6 and 2 > 7)\n",
    "\n",
    "print (6 > 3 and 8 > 5 )\n"
   ]
  },
  {
   "cell_type": "markdown",
   "id": "5be03aac",
   "metadata": {},
   "source": [
    "## OR Logical Operators\n",
    "\n",
    "### (Atlease one element should be True) for True statment"
   ]
  },
  {
   "cell_type": "markdown",
   "id": "906fe5c9",
   "metadata": {},
   "source": [
    "### 1. False or True = True\n",
    "### 2. True or False = True\n",
    "### 3. False or False = True"
   ]
  },
  {
   "cell_type": "code",
   "execution_count": 64,
   "id": "2ce8f3a4",
   "metadata": {},
   "outputs": [
    {
     "name": "stdout",
     "output_type": "stream",
     "text": [
      "True\n",
      "True\n",
      "True\n"
     ]
    }
   ],
   "source": [
    "print (9 > 7 or 9 < 7)\n",
    "\n",
    "print (10 < 20 or 15 > 10)\n",
    "\n",
    "print (10 < 40 or 20 < 30)"
   ]
  },
  {
   "cell_type": "markdown",
   "id": "2baede2d",
   "metadata": {},
   "source": [
    "## Comparision Operators"
   ]
  },
  {
   "cell_type": "markdown",
   "id": "f1ebadac",
   "metadata": {},
   "source": [
    "### 1. >\n",
    "### 2. >=\n",
    "### 3, <\n",
    "### 4. <=\n",
    "### 5. ==\n",
    "### 6. !="
   ]
  },
  {
   "cell_type": "code",
   "execution_count": 71,
   "id": "5fd23884",
   "metadata": {},
   "outputs": [
    {
     "name": "stdout",
     "output_type": "stream",
     "text": [
      "False\n",
      "False\n",
      "True\n",
      "True\n",
      "True\n",
      "False\n"
     ]
    }
   ],
   "source": [
    "print (5 > 5)\n",
    "\n",
    "print (5 > 5.1)\n",
    "\n",
    "print (5 >= 5)\n",
    "\n",
    "print (5 <= 5)\n",
    "\n",
    "print (3 == 3)\n",
    "\n",
    "print (3 != 3)\n",
    "\n"
   ]
  },
  {
   "cell_type": "code",
   "execution_count": 76,
   "id": "56e88138",
   "metadata": {},
   "outputs": [
    {
     "name": "stdout",
     "output_type": "stream",
     "text": [
      "Teen Status: True\n"
     ]
    }
   ],
   "source": [
    "age = int(input(\"Enter Age: \"))\n",
    "\n",
    "is_teen = age < 20 and age > 10\n",
    "\n",
    "print (f\"Teen Status: {is_teen}\")"
   ]
  }
 ],
 "metadata": {
  "kernelspec": {
   "display_name": "Python 3",
   "language": "python",
   "name": "python3"
  },
  "language_info": {
   "codemirror_mode": {
    "name": "ipython",
    "version": 3
   },
   "file_extension": ".py",
   "mimetype": "text/x-python",
   "name": "python",
   "nbconvert_exporter": "python",
   "pygments_lexer": "ipython3",
   "version": "3.13.5"
  }
 },
 "nbformat": 4,
 "nbformat_minor": 5
}
